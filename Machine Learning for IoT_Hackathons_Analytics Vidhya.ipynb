{
  "nbformat": 4,
  "nbformat_minor": 0,
  "metadata": {
    "colab": {
      "name": "Machine Learning for IoT Hackathons",
      "provenance": [],
      "toc_visible": true
    },
    "kernelspec": {
      "name": "python3",
      "display_name": "Python 3"
    }
  },
  "cells": [
    {
      "cell_type": "markdown",
      "metadata": {
        "id": "tarBTCY5eL-b",
        "colab_type": "text"
      },
      "source": [
        "# <center><font color='red'>JanataHack: Machine Learning for IoT Hackathons</font></center>"
      ]
    },
    {
      "cell_type": "markdown",
      "metadata": {
        "id": "FAGVTLsWeP8R",
        "colab_type": "text"
      },
      "source": [
        "<center><img src='https://datahack-prod.s3.ap-south-1.amazonaws.com/__sized__/contest_cover/jantahack_-thumbnail-1200x1200-90.jpg'/></center>"
      ]
    },
    {
      "cell_type": "markdown",
      "metadata": {
        "id": "J-uqnQi9eTaP",
        "colab_type": "text"
      },
      "source": [
        "### Hackathons Introduction\n",
        "\n",
        "IoT devices are becoming popular nowadays. The widespread use of IoT yields huge amounts of raw data. This data can be effectively __processed by using machine learning__ to derive many __useful insights__ that can become game changers and affect our lives deeply.\n",
        "<br>\n",
        "\n",
        "\n",
        "- This  __#JantaHack challange__ bring you a challenge providing all of you with an opportunity to work with __sensor data__ and solve an interesting __IOT__ problem.\n"
      ]
    },
    {
      "cell_type": "markdown",
      "metadata": {
        "id": "yiK9-tNHeXBw",
        "colab_type": "text"
      },
      "source": [
        "### Problem Statement"
      ]
    },
    {
      "cell_type": "markdown",
      "metadata": {
        "id": "cEkychKneagP",
        "colab_type": "text"
      },
      "source": [
        "You are working with the government to transform your city into a __smart city__. The vision is to convert it into a digital and intelligent city to improve the efficiency of services for the citizens. One of the problems faced by the government is __traffic__. You are a data scientist working to manage the traffic of the city better and to __provide input on infrastructure planning for the future__.\n",
        "\n",
        "The government wants to implement a __robust traffic system__ for the city by being prepared for __traffic peaks__. They want to understand the __traffic patterns of the four junctions__ of the city.\n",
        "- Traffic patterns on holidays, as well as on various other occasions during the year, differ from normal working days. This is important to take into account for your forecasting. \n",
        "\n",
        "### TASK\n",
        "\n",
        "### <center><font color='red'>Predict traffic patterns in each of these four junctions for the next 4 months.</font></center>\n",
        "\n",
        "<br>\n",
        "- The sensors on each of these junctions were collecting data at different times, hence you will see traffic data from different time periods. To add to the complexity, some of the junctions have provided limited or sparse data requiring thoughtfulness when creating future projections. Depending upon the historical data of 20 months, the government is looking to you to deliver accurate traffic projections for the coming four months. Your algorithm will become the foundation of a larger transformation to make your city smart and intelligent.\n"
      ]
    },
    {
      "cell_type": "markdown",
      "metadata": {
        "id": "L81fkNf0eqEq",
        "colab_type": "text"
      },
      "source": [
        "#### Evaluation Metric\n",
        "- The evaluation metric for this competition is __Root Mean Squared Error (RMSE)__"
      ]
    },
    {
      "cell_type": "code",
      "metadata": {
        "id": "J6lKqeGWeJhN",
        "colab_type": "code",
        "outputId": "c67c6de9-c296-4a17-a89c-a135a3662c3b",
        "colab": {
          "base_uri": "https://localhost:8080/",
          "height": 72
        }
      },
      "source": [
        "# As i am using google collab so first i need to install all the required dependencies which i am gonna use further\n",
        "\n",
        "#install xgboost\n",
        "!pip install xgboost"
      ],
      "execution_count": 97,
      "outputs": [
        {
          "output_type": "stream",
          "text": [
            "Requirement already satisfied: xgboost in /usr/local/lib/python3.6/dist-packages (0.90)\n",
            "Requirement already satisfied: scipy in /usr/local/lib/python3.6/dist-packages (from xgboost) (1.4.1)\n",
            "Requirement already satisfied: numpy in /usr/local/lib/python3.6/dist-packages (from xgboost) (1.18.4)\n"
          ],
          "name": "stdout"
        }
      ]
    },
    {
      "cell_type": "code",
      "metadata": {
        "id": "n8cpocbJe7WK",
        "colab_type": "code",
        "outputId": "ed03873b-36a5-44f0-e2a6-a50251e84d20",
        "colab": {
          "base_uri": "https://localhost:8080/",
          "height": 183
        }
      },
      "source": [
        "# install statsmodels\n",
        "\n",
        "! pip install statsmodels"
      ],
      "execution_count": 98,
      "outputs": [
        {
          "output_type": "stream",
          "text": [
            "Requirement already satisfied: statsmodels in /usr/local/lib/python3.6/dist-packages (0.10.2)\n",
            "Requirement already satisfied: patsy>=0.4.0 in /usr/local/lib/python3.6/dist-packages (from statsmodels) (0.5.1)\n",
            "Requirement already satisfied: scipy>=0.18 in /usr/local/lib/python3.6/dist-packages (from statsmodels) (1.4.1)\n",
            "Requirement already satisfied: numpy>=1.11 in /usr/local/lib/python3.6/dist-packages (from statsmodels) (1.18.4)\n",
            "Requirement already satisfied: pandas>=0.19 in /usr/local/lib/python3.6/dist-packages (from statsmodels) (1.0.3)\n",
            "Requirement already satisfied: six in /usr/local/lib/python3.6/dist-packages (from patsy>=0.4.0->statsmodels) (1.12.0)\n",
            "Requirement already satisfied: pytz>=2017.2 in /usr/local/lib/python3.6/dist-packages (from pandas>=0.19->statsmodels) (2018.9)\n",
            "Requirement already satisfied: python-dateutil>=2.6.1 in /usr/local/lib/python3.6/dist-packages (from pandas>=0.19->statsmodels) (2.8.1)\n"
          ],
          "name": "stdout"
        }
      ]
    },
    {
      "cell_type": "code",
      "metadata": {
        "id": "as2-JpNzfDYQ",
        "colab_type": "code",
        "outputId": "81e5a083-6201-40c6-ce42-561f0549a9e8",
        "colab": {
          "base_uri": "https://localhost:8080/",
          "height": 35
        }
      },
      "source": [
        "# import all the other required libraries\n",
        "\n",
        "import numpy as np\n",
        "import pandas as pd\n",
        "import matplotlib.pyplot as plt\n",
        "import seaborn as sns\n",
        "sns.set(color_codes=True)\n",
        "import math\n",
        "from datetime import datetime\n",
        "from sklearn.metrics import mean_squared_error\n",
        "from sklearn.model_selection import train_test_split\n",
        "%matplotlib inline\n",
        "import warnings\n",
        "warnings.filterwarnings('ignore')\n",
        "print (\"Required--Libraries--Loaded\")\n",
        "\n",
        "# Lib.. for model training\n",
        "import xgboost as xgb"
      ],
      "execution_count": 99,
      "outputs": [
        {
          "output_type": "stream",
          "text": [
            "Required--Libraries--Loaded\n"
          ],
          "name": "stdout"
        }
      ]
    },
    {
      "cell_type": "code",
      "metadata": {
        "id": "6BWr3Khvfc0z",
        "colab_type": "code",
        "colab": {}
      },
      "source": [
        "#Upload the train and test data and read the files.\n",
        "# I am using google collab \n",
        "train= pd.read_csv('/content/train.csv')\n",
        "test= pd.read_csv('/content/test.csv')"
      ],
      "execution_count": 0,
      "outputs": []
    },
    {
      "cell_type": "code",
      "metadata": {
        "id": "pYlxVtJTgp7c",
        "colab_type": "code",
        "outputId": "a492e843-b390-4c9e-c909-db63832d249c",
        "colab": {
          "base_uri": "https://localhost:8080/",
          "height": 216
        }
      },
      "source": [
        "print(train.shape)\n",
        "train.head()"
      ],
      "execution_count": 101,
      "outputs": [
        {
          "output_type": "stream",
          "text": [
            "(48120, 4)\n"
          ],
          "name": "stdout"
        },
        {
          "output_type": "execute_result",
          "data": {
            "text/html": [
              "<div>\n",
              "<style scoped>\n",
              "    .dataframe tbody tr th:only-of-type {\n",
              "        vertical-align: middle;\n",
              "    }\n",
              "\n",
              "    .dataframe tbody tr th {\n",
              "        vertical-align: top;\n",
              "    }\n",
              "\n",
              "    .dataframe thead th {\n",
              "        text-align: right;\n",
              "    }\n",
              "</style>\n",
              "<table border=\"1\" class=\"dataframe\">\n",
              "  <thead>\n",
              "    <tr style=\"text-align: right;\">\n",
              "      <th></th>\n",
              "      <th>DateTime</th>\n",
              "      <th>Junction</th>\n",
              "      <th>Vehicles</th>\n",
              "      <th>ID</th>\n",
              "    </tr>\n",
              "  </thead>\n",
              "  <tbody>\n",
              "    <tr>\n",
              "      <th>0</th>\n",
              "      <td>2015-11-01 00:00:00</td>\n",
              "      <td>1</td>\n",
              "      <td>15</td>\n",
              "      <td>20151101001</td>\n",
              "    </tr>\n",
              "    <tr>\n",
              "      <th>1</th>\n",
              "      <td>2015-11-01 01:00:00</td>\n",
              "      <td>1</td>\n",
              "      <td>13</td>\n",
              "      <td>20151101011</td>\n",
              "    </tr>\n",
              "    <tr>\n",
              "      <th>2</th>\n",
              "      <td>2015-11-01 02:00:00</td>\n",
              "      <td>1</td>\n",
              "      <td>10</td>\n",
              "      <td>20151101021</td>\n",
              "    </tr>\n",
              "    <tr>\n",
              "      <th>3</th>\n",
              "      <td>2015-11-01 03:00:00</td>\n",
              "      <td>1</td>\n",
              "      <td>7</td>\n",
              "      <td>20151101031</td>\n",
              "    </tr>\n",
              "    <tr>\n",
              "      <th>4</th>\n",
              "      <td>2015-11-01 04:00:00</td>\n",
              "      <td>1</td>\n",
              "      <td>9</td>\n",
              "      <td>20151101041</td>\n",
              "    </tr>\n",
              "  </tbody>\n",
              "</table>\n",
              "</div>"
            ],
            "text/plain": [
              "              DateTime  Junction  Vehicles           ID\n",
              "0  2015-11-01 00:00:00         1        15  20151101001\n",
              "1  2015-11-01 01:00:00         1        13  20151101011\n",
              "2  2015-11-01 02:00:00         1        10  20151101021\n",
              "3  2015-11-01 03:00:00         1         7  20151101031\n",
              "4  2015-11-01 04:00:00         1         9  20151101041"
            ]
          },
          "metadata": {
            "tags": []
          },
          "execution_count": 101
        }
      ]
    },
    {
      "cell_type": "markdown",
      "metadata": {
        "id": "WTO-o_ugl9Vg",
        "colab_type": "text"
      },
      "source": [
        "### Data Feature structure"
      ]
    },
    {
      "cell_type": "markdown",
      "metadata": {
        "id": "itndC0mYmD3T",
        "colab_type": "text"
      },
      "source": [
        "<center><img src=\"https://raw.githubusercontent.com/AIVenture0/ML-of-IOT-JantaHack-AnalyticsVidhya-Hackathons-5th-Rank/master/features.jpg\"/></center>"
      ]
    },
    {
      "cell_type": "markdown",
      "metadata": {
        "id": "UcqHUc17GlEJ",
        "colab_type": "text"
      },
      "source": [
        "- As ID have no use so it's better to drop them in the beginning.\n",
        "\n",
        "- Drop the train id.\n",
        "- Save the test id seperately for final submission."
      ]
    },
    {
      "cell_type": "code",
      "metadata": {
        "id": "To29UYAZWhM7",
        "colab_type": "code",
        "colab": {}
      },
      "source": [
        "# Below code explains why we are doing this\n",
        "\n",
        "ID_test_three= test_data[test['Junction']==3]['ID']\n",
        "ID_test_remain= test_data[test['Junction']!=3]['ID']"
      ],
      "execution_count": 0,
      "outputs": []
    },
    {
      "cell_type": "code",
      "metadata": {
        "id": "QG4oLkw7GWg_",
        "colab_type": "code",
        "colab": {}
      },
      "source": [
        "train=train.drop('ID',axis=1)\n",
        "test_Id=test['ID']\n",
        "test=test.drop('ID',axis=1)"
      ],
      "execution_count": 0,
      "outputs": []
    },
    {
      "cell_type": "code",
      "metadata": {
        "id": "g8uTpReWgxUw",
        "colab_type": "code",
        "outputId": "fe7f34b6-01c2-4d7e-87df-008ec31ae9e5",
        "colab": {
          "base_uri": "https://localhost:8080/",
          "height": 216
        }
      },
      "source": [
        "print(test.shape)\n",
        "test.head()"
      ],
      "execution_count": 104,
      "outputs": [
        {
          "output_type": "stream",
          "text": [
            "(11808, 2)\n"
          ],
          "name": "stdout"
        },
        {
          "output_type": "execute_result",
          "data": {
            "text/html": [
              "<div>\n",
              "<style scoped>\n",
              "    .dataframe tbody tr th:only-of-type {\n",
              "        vertical-align: middle;\n",
              "    }\n",
              "\n",
              "    .dataframe tbody tr th {\n",
              "        vertical-align: top;\n",
              "    }\n",
              "\n",
              "    .dataframe thead th {\n",
              "        text-align: right;\n",
              "    }\n",
              "</style>\n",
              "<table border=\"1\" class=\"dataframe\">\n",
              "  <thead>\n",
              "    <tr style=\"text-align: right;\">\n",
              "      <th></th>\n",
              "      <th>DateTime</th>\n",
              "      <th>Junction</th>\n",
              "    </tr>\n",
              "  </thead>\n",
              "  <tbody>\n",
              "    <tr>\n",
              "      <th>0</th>\n",
              "      <td>2017-07-01 00:00:00</td>\n",
              "      <td>1</td>\n",
              "    </tr>\n",
              "    <tr>\n",
              "      <th>1</th>\n",
              "      <td>2017-07-01 01:00:00</td>\n",
              "      <td>1</td>\n",
              "    </tr>\n",
              "    <tr>\n",
              "      <th>2</th>\n",
              "      <td>2017-07-01 02:00:00</td>\n",
              "      <td>1</td>\n",
              "    </tr>\n",
              "    <tr>\n",
              "      <th>3</th>\n",
              "      <td>2017-07-01 03:00:00</td>\n",
              "      <td>1</td>\n",
              "    </tr>\n",
              "    <tr>\n",
              "      <th>4</th>\n",
              "      <td>2017-07-01 04:00:00</td>\n",
              "      <td>1</td>\n",
              "    </tr>\n",
              "  </tbody>\n",
              "</table>\n",
              "</div>"
            ],
            "text/plain": [
              "              DateTime  Junction\n",
              "0  2017-07-01 00:00:00         1\n",
              "1  2017-07-01 01:00:00         1\n",
              "2  2017-07-01 02:00:00         1\n",
              "3  2017-07-01 03:00:00         1\n",
              "4  2017-07-01 04:00:00         1"
            ]
          },
          "metadata": {
            "tags": []
          },
          "execution_count": 104
        }
      ]
    },
    {
      "cell_type": "markdown",
      "metadata": {
        "id": "6Js_FjV3g9cw",
        "colab_type": "text"
      },
      "source": [
        "## Data Preprocessing"
      ]
    },
    {
      "cell_type": "code",
      "metadata": {
        "id": "7qpsNVFQjsWh",
        "colab_type": "code",
        "outputId": "5cb40c4f-1a91-4098-8416-5ff5db184153",
        "colab": {
          "base_uri": "https://localhost:8080/",
          "height": 90
        }
      },
      "source": [
        "train.dtypes"
      ],
      "execution_count": 105,
      "outputs": [
        {
          "output_type": "execute_result",
          "data": {
            "text/plain": [
              "DateTime    object\n",
              "Junction     int64\n",
              "Vehicles     int64\n",
              "dtype: object"
            ]
          },
          "metadata": {
            "tags": []
          },
          "execution_count": 105
        }
      ]
    },
    {
      "cell_type": "markdown",
      "metadata": {
        "id": "F-J5cD0tEv7N",
        "colab_type": "text"
      },
      "source": [
        "Transform the datatype of DateTime Column"
      ]
    },
    {
      "cell_type": "code",
      "metadata": {
        "id": "t1pV4JqVDiwh",
        "colab_type": "code",
        "colab": {}
      },
      "source": [
        "train['DateTime']=pd.to_datetime(train['DateTime'])\n",
        "\n",
        "test['DateTime']=pd.to_datetime(test['DateTime'])"
      ],
      "execution_count": 0,
      "outputs": []
    },
    {
      "cell_type": "code",
      "metadata": {
        "id": "d4S0HacmDz40",
        "colab_type": "code",
        "colab": {
          "base_uri": "https://localhost:8080/",
          "height": 72
        },
        "outputId": "8bf849b4-f9f0-4f7f-8d34-762c2904b25d"
      },
      "source": [
        "train.dtypes\n",
        "test.dtypes"
      ],
      "execution_count": 107,
      "outputs": [
        {
          "output_type": "execute_result",
          "data": {
            "text/plain": [
              "DateTime    datetime64[ns]\n",
              "Junction             int64\n",
              "dtype: object"
            ]
          },
          "metadata": {
            "tags": []
          },
          "execution_count": 107
        }
      ]
    },
    {
      "cell_type": "code",
      "metadata": {
        "id": "ZSMOsgkrkX2l",
        "colab_type": "code",
        "outputId": "131ebdcc-066d-4947-d17e-1be0fbf8aa19",
        "colab": {
          "base_uri": "https://localhost:8080/",
          "height": 198
        }
      },
      "source": [
        "train.head()"
      ],
      "execution_count": 108,
      "outputs": [
        {
          "output_type": "execute_result",
          "data": {
            "text/html": [
              "<div>\n",
              "<style scoped>\n",
              "    .dataframe tbody tr th:only-of-type {\n",
              "        vertical-align: middle;\n",
              "    }\n",
              "\n",
              "    .dataframe tbody tr th {\n",
              "        vertical-align: top;\n",
              "    }\n",
              "\n",
              "    .dataframe thead th {\n",
              "        text-align: right;\n",
              "    }\n",
              "</style>\n",
              "<table border=\"1\" class=\"dataframe\">\n",
              "  <thead>\n",
              "    <tr style=\"text-align: right;\">\n",
              "      <th></th>\n",
              "      <th>DateTime</th>\n",
              "      <th>Junction</th>\n",
              "      <th>Vehicles</th>\n",
              "    </tr>\n",
              "  </thead>\n",
              "  <tbody>\n",
              "    <tr>\n",
              "      <th>0</th>\n",
              "      <td>2015-11-01 00:00:00</td>\n",
              "      <td>1</td>\n",
              "      <td>15</td>\n",
              "    </tr>\n",
              "    <tr>\n",
              "      <th>1</th>\n",
              "      <td>2015-11-01 01:00:00</td>\n",
              "      <td>1</td>\n",
              "      <td>13</td>\n",
              "    </tr>\n",
              "    <tr>\n",
              "      <th>2</th>\n",
              "      <td>2015-11-01 02:00:00</td>\n",
              "      <td>1</td>\n",
              "      <td>10</td>\n",
              "    </tr>\n",
              "    <tr>\n",
              "      <th>3</th>\n",
              "      <td>2015-11-01 03:00:00</td>\n",
              "      <td>1</td>\n",
              "      <td>7</td>\n",
              "    </tr>\n",
              "    <tr>\n",
              "      <th>4</th>\n",
              "      <td>2015-11-01 04:00:00</td>\n",
              "      <td>1</td>\n",
              "      <td>9</td>\n",
              "    </tr>\n",
              "  </tbody>\n",
              "</table>\n",
              "</div>"
            ],
            "text/plain": [
              "             DateTime  Junction  Vehicles\n",
              "0 2015-11-01 00:00:00         1        15\n",
              "1 2015-11-01 01:00:00         1        13\n",
              "2 2015-11-01 02:00:00         1        10\n",
              "3 2015-11-01 03:00:00         1         7\n",
              "4 2015-11-01 04:00:00         1         9"
            ]
          },
          "metadata": {
            "tags": []
          },
          "execution_count": 108
        }
      ]
    },
    {
      "cell_type": "code",
      "metadata": {
        "id": "MyXOGdIykZGN",
        "colab_type": "code",
        "outputId": "5e68ca88-9870-444f-f339-d36b5c7f5fe3",
        "colab": {
          "base_uri": "https://localhost:8080/",
          "height": 198
        }
      },
      "source": [
        "test.head()"
      ],
      "execution_count": 109,
      "outputs": [
        {
          "output_type": "execute_result",
          "data": {
            "text/html": [
              "<div>\n",
              "<style scoped>\n",
              "    .dataframe tbody tr th:only-of-type {\n",
              "        vertical-align: middle;\n",
              "    }\n",
              "\n",
              "    .dataframe tbody tr th {\n",
              "        vertical-align: top;\n",
              "    }\n",
              "\n",
              "    .dataframe thead th {\n",
              "        text-align: right;\n",
              "    }\n",
              "</style>\n",
              "<table border=\"1\" class=\"dataframe\">\n",
              "  <thead>\n",
              "    <tr style=\"text-align: right;\">\n",
              "      <th></th>\n",
              "      <th>DateTime</th>\n",
              "      <th>Junction</th>\n",
              "    </tr>\n",
              "  </thead>\n",
              "  <tbody>\n",
              "    <tr>\n",
              "      <th>0</th>\n",
              "      <td>2017-07-01 00:00:00</td>\n",
              "      <td>1</td>\n",
              "    </tr>\n",
              "    <tr>\n",
              "      <th>1</th>\n",
              "      <td>2017-07-01 01:00:00</td>\n",
              "      <td>1</td>\n",
              "    </tr>\n",
              "    <tr>\n",
              "      <th>2</th>\n",
              "      <td>2017-07-01 02:00:00</td>\n",
              "      <td>1</td>\n",
              "    </tr>\n",
              "    <tr>\n",
              "      <th>3</th>\n",
              "      <td>2017-07-01 03:00:00</td>\n",
              "      <td>1</td>\n",
              "    </tr>\n",
              "    <tr>\n",
              "      <th>4</th>\n",
              "      <td>2017-07-01 04:00:00</td>\n",
              "      <td>1</td>\n",
              "    </tr>\n",
              "  </tbody>\n",
              "</table>\n",
              "</div>"
            ],
            "text/plain": [
              "             DateTime  Junction\n",
              "0 2017-07-01 00:00:00         1\n",
              "1 2017-07-01 01:00:00         1\n",
              "2 2017-07-01 02:00:00         1\n",
              "3 2017-07-01 03:00:00         1\n",
              "4 2017-07-01 04:00:00         1"
            ]
          },
          "metadata": {
            "tags": []
          },
          "execution_count": 109
        }
      ]
    },
    {
      "cell_type": "markdown",
      "metadata": {
        "id": "ptmSr0O9SLgz",
        "colab_type": "text"
      },
      "source": [
        "## Feature analysis and Feature generation"
      ]
    },
    {
      "cell_type": "code",
      "metadata": {
        "id": "O6CJXPoHhReH",
        "colab_type": "code",
        "colab": {}
      },
      "source": [
        "# training data\n",
        "train['day'] = train['DateTime'].dt.weekday\n",
        "train['hour'] = train['DateTime'].dt.hour\n",
        "train['month'] = train['DateTime'].dt.month\n",
        "\n",
        "train['Year']= train['DateTime'].dt.year%10\n",
        "train['DayofWeek']=train['DateTime'].dt.day_name()\n",
        "train['Week']=train['DateTime'].dt.week\n",
        "\n",
        "# Test data\n",
        "test['day'] = test['DateTime'].dt.weekday\n",
        "test['hour'] = test['DateTime'].dt.hour\n",
        "test['month'] = test['DateTime'].dt.month\n",
        "\n",
        "test['Year']= test['DateTime'].dt.year%10\n",
        "test['DayofWeek']=test['DateTime'].dt.day_name()\n",
        "test['Week']=test['DateTime'].dt.week\n",
        "\n"
      ],
      "execution_count": 0,
      "outputs": []
    },
    {
      "cell_type": "markdown",
      "metadata": {
        "id": "nQ1TX4MEQgz_",
        "colab_type": "text"
      },
      "source": [
        "### Creating the ordinal feature of the given time series data. \n",
        "\n",
        "i.e Timestamp.toordinal() function to return the Gregorian ordinal for the given Timestamp object.\n",
        "\n",
        "[Check more about .toordinal()](https://www.geeksforgeeks.org/python-pandas-timestamp-toordinal/)"
      ]
    },
    {
      "cell_type": "markdown",
      "metadata": {
        "id": "Gt1mIkT7QviC",
        "colab_type": "text"
      },
      "source": [
        "When i add this feature to my data, rank imprvement is very impressive."
      ]
    },
    {
      "cell_type": "code",
      "metadata": {
        "id": "825wc4BVRqhJ",
        "colab_type": "code",
        "colab": {
          "base_uri": "https://localhost:8080/",
          "height": 35
        },
        "outputId": "f15cf02c-a144-409e-fe96-eaaa46da5ed4"
      },
      "source": [
        "print(train['DateTime'][0].toordinal())"
      ],
      "execution_count": 111,
      "outputs": [
        {
          "output_type": "stream",
          "text": [
            "735903\n"
          ],
          "name": "stdout"
        }
      ]
    },
    {
      "cell_type": "markdown",
      "metadata": {
        "id": "MF31xairRyoU",
        "colab_type": "text"
      },
      "source": [
        "To scale it we take a common value 730000.\n",
        "\n",
        "- Can try MinMaxScaler and see how the results improves."
      ]
    },
    {
      "cell_type": "code",
      "metadata": {
        "id": "C_FriibZP5cC",
        "colab_type": "code",
        "colab": {}
      },
      "source": [
        "# With this we scale the day count.\n",
        "train[\"DayCount\"] = train[\"DateTime\"].apply(lambda m: m.toordinal()/730000) \n",
        "test[\"DayCount\"] = test[\"DateTime\"].apply(lambda m: m.toordinal()/730000)"
      ],
      "execution_count": 0,
      "outputs": []
    },
    {
      "cell_type": "code",
      "metadata": {
        "id": "FmPcVZ3zhXEc",
        "colab_type": "code",
        "outputId": "e97bbd65-b7b3-4e4a-cce2-66513f272128",
        "colab": {
          "base_uri": "https://localhost:8080/",
          "height": 198
        }
      },
      "source": [
        "train.head()"
      ],
      "execution_count": 113,
      "outputs": [
        {
          "output_type": "execute_result",
          "data": {
            "text/html": [
              "<div>\n",
              "<style scoped>\n",
              "    .dataframe tbody tr th:only-of-type {\n",
              "        vertical-align: middle;\n",
              "    }\n",
              "\n",
              "    .dataframe tbody tr th {\n",
              "        vertical-align: top;\n",
              "    }\n",
              "\n",
              "    .dataframe thead th {\n",
              "        text-align: right;\n",
              "    }\n",
              "</style>\n",
              "<table border=\"1\" class=\"dataframe\">\n",
              "  <thead>\n",
              "    <tr style=\"text-align: right;\">\n",
              "      <th></th>\n",
              "      <th>DateTime</th>\n",
              "      <th>Junction</th>\n",
              "      <th>Vehicles</th>\n",
              "      <th>day</th>\n",
              "      <th>hour</th>\n",
              "      <th>month</th>\n",
              "      <th>Year</th>\n",
              "      <th>DayofWeek</th>\n",
              "      <th>Week</th>\n",
              "      <th>DayCount</th>\n",
              "    </tr>\n",
              "  </thead>\n",
              "  <tbody>\n",
              "    <tr>\n",
              "      <th>0</th>\n",
              "      <td>2015-11-01 00:00:00</td>\n",
              "      <td>1</td>\n",
              "      <td>15</td>\n",
              "      <td>6</td>\n",
              "      <td>0</td>\n",
              "      <td>11</td>\n",
              "      <td>5</td>\n",
              "      <td>Sunday</td>\n",
              "      <td>44</td>\n",
              "      <td>1.008086</td>\n",
              "    </tr>\n",
              "    <tr>\n",
              "      <th>1</th>\n",
              "      <td>2015-11-01 01:00:00</td>\n",
              "      <td>1</td>\n",
              "      <td>13</td>\n",
              "      <td>6</td>\n",
              "      <td>1</td>\n",
              "      <td>11</td>\n",
              "      <td>5</td>\n",
              "      <td>Sunday</td>\n",
              "      <td>44</td>\n",
              "      <td>1.008086</td>\n",
              "    </tr>\n",
              "    <tr>\n",
              "      <th>2</th>\n",
              "      <td>2015-11-01 02:00:00</td>\n",
              "      <td>1</td>\n",
              "      <td>10</td>\n",
              "      <td>6</td>\n",
              "      <td>2</td>\n",
              "      <td>11</td>\n",
              "      <td>5</td>\n",
              "      <td>Sunday</td>\n",
              "      <td>44</td>\n",
              "      <td>1.008086</td>\n",
              "    </tr>\n",
              "    <tr>\n",
              "      <th>3</th>\n",
              "      <td>2015-11-01 03:00:00</td>\n",
              "      <td>1</td>\n",
              "      <td>7</td>\n",
              "      <td>6</td>\n",
              "      <td>3</td>\n",
              "      <td>11</td>\n",
              "      <td>5</td>\n",
              "      <td>Sunday</td>\n",
              "      <td>44</td>\n",
              "      <td>1.008086</td>\n",
              "    </tr>\n",
              "    <tr>\n",
              "      <th>4</th>\n",
              "      <td>2015-11-01 04:00:00</td>\n",
              "      <td>1</td>\n",
              "      <td>9</td>\n",
              "      <td>6</td>\n",
              "      <td>4</td>\n",
              "      <td>11</td>\n",
              "      <td>5</td>\n",
              "      <td>Sunday</td>\n",
              "      <td>44</td>\n",
              "      <td>1.008086</td>\n",
              "    </tr>\n",
              "  </tbody>\n",
              "</table>\n",
              "</div>"
            ],
            "text/plain": [
              "             DateTime  Junction  Vehicles  day  ...  Year  DayofWeek  Week  DayCount\n",
              "0 2015-11-01 00:00:00         1        15    6  ...     5     Sunday    44  1.008086\n",
              "1 2015-11-01 01:00:00         1        13    6  ...     5     Sunday    44  1.008086\n",
              "2 2015-11-01 02:00:00         1        10    6  ...     5     Sunday    44  1.008086\n",
              "3 2015-11-01 03:00:00         1         7    6  ...     5     Sunday    44  1.008086\n",
              "4 2015-11-01 04:00:00         1         9    6  ...     5     Sunday    44  1.008086\n",
              "\n",
              "[5 rows x 10 columns]"
            ]
          },
          "metadata": {
            "tags": []
          },
          "execution_count": 113
        }
      ]
    },
    {
      "cell_type": "markdown",
      "metadata": {
        "id": "txI_TGZxMI-A",
        "colab_type": "text"
      },
      "source": [
        "Patter of traffic is very different during working vs holidays."
      ]
    },
    {
      "cell_type": "code",
      "metadata": {
        "id": "wM-TIubuq5Dw",
        "colab_type": "code",
        "colab": {}
      },
      "source": [
        "# Transform the day of week in accordance to the holidy.\n",
        "# For this data we are considering only sunday as the prime holiday.\n",
        "\n",
        "train['Is_holiday']=train['DayofWeek'].map({'Sunday':1,'Monday':0,'Tuesday':0,'Wednesday':0,'Thursday':0,'Friday':0,'Saturday':0})\n",
        "\n",
        "test['Is_holiday']=test['DayofWeek'].map({'Sunday':1,'Monday':0,'Tuesday':0,'Wednesday':0,'Thursday':0,'Friday':0,'Saturday':0})"
      ],
      "execution_count": 0,
      "outputs": []
    },
    {
      "cell_type": "code",
      "metadata": {
        "id": "KjhLfym0sqy3",
        "colab_type": "code",
        "outputId": "7cf9286b-dfbd-47af-e669-731c8ffd8a3b",
        "colab": {
          "base_uri": "https://localhost:8080/",
          "height": 217
        }
      },
      "source": [
        "test.dtypes"
      ],
      "execution_count": 115,
      "outputs": [
        {
          "output_type": "execute_result",
          "data": {
            "text/plain": [
              "DateTime      datetime64[ns]\n",
              "Junction               int64\n",
              "day                    int64\n",
              "hour                   int64\n",
              "month                  int64\n",
              "Year                   int64\n",
              "DayofWeek             object\n",
              "Week                   int64\n",
              "DayCount             float64\n",
              "Is_holiday             int64\n",
              "dtype: object"
            ]
          },
          "metadata": {
            "tags": []
          },
          "execution_count": 115
        }
      ]
    },
    {
      "cell_type": "code",
      "metadata": {
        "id": "4LMBRUrztK8A",
        "colab_type": "code",
        "outputId": "38718355-5ae3-4e38-ae5e-8b47c1da9fa5",
        "colab": {
          "base_uri": "https://localhost:8080/",
          "height": 72
        }
      },
      "source": [
        "train.columns"
      ],
      "execution_count": 116,
      "outputs": [
        {
          "output_type": "execute_result",
          "data": {
            "text/plain": [
              "Index(['DateTime', 'Junction', 'Vehicles', 'day', 'hour', 'month', 'Year',\n",
              "       'DayofWeek', 'Week', 'DayCount', 'Is_holiday'],\n",
              "      dtype='object')"
            ]
          },
          "metadata": {
            "tags": []
          },
          "execution_count": 116
        }
      ]
    },
    {
      "cell_type": "code",
      "metadata": {
        "id": "Ah2cQiWMtVJl",
        "colab_type": "code",
        "outputId": "9cb39a34-8701-4b6a-b192-274bffb6d3d3",
        "colab": {
          "base_uri": "https://localhost:8080/",
          "height": 72
        }
      },
      "source": [
        "test.columns"
      ],
      "execution_count": 117,
      "outputs": [
        {
          "output_type": "execute_result",
          "data": {
            "text/plain": [
              "Index(['DateTime', 'Junction', 'day', 'hour', 'month', 'Year', 'DayofWeek',\n",
              "       'Week', 'DayCount', 'Is_holiday'],\n",
              "      dtype='object')"
            ]
          },
          "metadata": {
            "tags": []
          },
          "execution_count": 117
        }
      ]
    },
    {
      "cell_type": "code",
      "metadata": {
        "id": "dR98X4fxtrfh",
        "colab_type": "code",
        "colab": {}
      },
      "source": [
        "# train=train.drop(['DayofWeek','DayCount'],axis=1)\n",
        "\n",
        "# test=test.drop(['DayofWeek','DayCount'],axis=1)"
      ],
      "execution_count": 0,
      "outputs": []
    },
    {
      "cell_type": "markdown",
      "metadata": {
        "id": "tgw19D3cLIf1",
        "colab_type": "text"
      },
      "source": [
        "Data for 1,2,4 follow the same pattern while data at junction 3 have very randomness. So what we do we create two seperate models.\n",
        "\n",
        "Model 1: creates prediction for junction point 1,2,4.\n",
        "Model 2: creates prediction for junction point 3.\n",
        "\n"
      ]
    },
    {
      "cell_type": "code",
      "metadata": {
        "id": "m912-wfGiLsz",
        "colab_type": "code",
        "colab": {}
      },
      "source": [
        "test_three= test[test['Junction']==3]\n",
        "test_remain= test[test['Junction']!=3]"
      ],
      "execution_count": 0,
      "outputs": []
    },
    {
      "cell_type": "markdown",
      "metadata": {
        "id": "ZngEvb_0ipJJ",
        "colab_type": "text"
      },
      "source": [
        "### Training the model"
      ]
    },
    {
      "cell_type": "code",
      "metadata": {
        "id": "T8wlJcTvt9EX",
        "colab_type": "code",
        "outputId": "e842d443-bacd-4712-a6f1-620cd3742e1d",
        "colab": {
          "base_uri": "https://localhost:8080/",
          "height": 72
        }
      },
      "source": [
        "train.columns"
      ],
      "execution_count": 120,
      "outputs": [
        {
          "output_type": "execute_result",
          "data": {
            "text/plain": [
              "Index(['DateTime', 'Junction', 'Vehicles', 'day', 'hour', 'month', 'Year',\n",
              "       'DayofWeek', 'Week', 'DayCount', 'Is_holiday'],\n",
              "      dtype='object')"
            ]
          },
          "metadata": {
            "tags": []
          },
          "execution_count": 120
        }
      ]
    },
    {
      "cell_type": "code",
      "metadata": {
        "id": "Eo7K-eDtijgW",
        "colab_type": "code",
        "colab": {}
      },
      "source": [
        "y_1 = train['Vehicles']\n",
        "data_1 = train[['Junction', 'day', 'hour', 'month', 'DayCount','Year','Is_holiday']]\n",
        "test_three_data = test_three[['Junction', 'day', 'hour', 'month', 'DayCount', 'Year','Is_holiday']]\n",
        "\n",
        "# y_1 = train['Vehicles']\n",
        "# data_1 = train[['Junction', 'day', 'hour', 'month','Year','Week','Is_holiday','DayCount']]\n",
        "# test_three_data = test_three[['Junction', 'day', 'hour', 'month','Year','Week','Is_holiday','DayCount']]"
      ],
      "execution_count": 0,
      "outputs": []
    },
    {
      "cell_type": "code",
      "metadata": {
        "id": "K6iPwFRoTxrF",
        "colab_type": "code",
        "colab": {}
      },
      "source": [
        "# evaluation function.\n",
        "def evaluation_error(preds, dtrain):\n",
        "    labels = dtrain.get_label()\n",
        "    return 'error', math.sqrt(mean_squared_error(labels, preds))"
      ],
      "execution_count": 0,
      "outputs": []
    },
    {
      "cell_type": "code",
      "metadata": {
        "id": "SiEk1w3RikHY",
        "colab_type": "code",
        "outputId": "caa2cf38-68b1-4082-adb8-80c3dac61fd2",
        "colab": {
          "base_uri": "https://localhost:8080/",
          "height": 1000
        }
      },
      "source": [
        "# split data to training and validation sets\n",
        "X_train, X_test, y_train, y_test = train_test_split(data_1, y_1, test_size=0.02, random_state=1)#28776\n",
        "# convert data to Dmatrix format for xgboost\n",
        "# In order for XGBoost to be able to use our data we need to transform it in to a specific format that \n",
        "#XGBoost can handle.\n",
        "\n",
        "d_train = xgb.DMatrix(X_train, label=y_train)\n",
        "d_valid = xgb.DMatrix(X_test, label=y_test)\n",
        "d_test = xgb.DMatrix(test_three_data)\n",
        "\n",
        "params = {  \n",
        "    \"n_estimators\": 300 ,  \n",
        "    \"max_depth\": 6 ,                  \n",
        "    \"learning_rate\": 0.0035 ,    \n",
        "    \"colsample_bytree\": 1 ,     \n",
        "    \"subsample\": 1 ,            \n",
        "    \"gamma\": 0.15 ,              \n",
        "    'reg_alpha': 10 ,           \n",
        "    \"min_child_weight\": 4 ,     \n",
        "    }\n",
        "\n",
        "# watchlist to see how trained model is performing over validation data and training data.\n",
        "train_valid = [(d_train, 'train'), (d_valid, 'valid')]\n",
        "\n",
        "# Train xgboost regressor\n",
        "reg = xgb.train(params, d_train, 5000, train_valid,  feval = evaluation_error, maximize=False, verbose_eval=50)\n",
        "# Predict from xgboost regressor\n",
        "Vehicles_test_3 = reg.predict(d_test)"
      ],
      "execution_count": 123,
      "outputs": [
        {
          "output_type": "stream",
          "text": [
            "[0]\ttrain-rmse:30.3911\tvalid-rmse:28.4291\ttrain-error:30.3909\tvalid-error:28.4291\n",
            "[50]\ttrain-rmse:25.7613\tvalid-rmse:24.1567\ttrain-error:25.7613\tvalid-error:24.1567\n",
            "[100]\ttrain-rmse:21.9116\tvalid-rmse:20.598\ttrain-error:21.9116\tvalid-error:20.598\n",
            "[150]\ttrain-rmse:18.7208\tvalid-rmse:17.6624\ttrain-error:18.7207\tvalid-error:17.6624\n",
            "[200]\ttrain-rmse:16.0863\tvalid-rmse:15.2347\ttrain-error:16.0863\tvalid-error:15.2347\n",
            "[250]\ttrain-rmse:13.9196\tvalid-rmse:13.2372\ttrain-error:13.9196\tvalid-error:13.2372\n",
            "[300]\ttrain-rmse:12.1467\tvalid-rmse:11.6004\ttrain-error:12.1466\tvalid-error:11.6004\n",
            "[350]\ttrain-rmse:10.7085\tvalid-rmse:10.2822\ttrain-error:10.7085\tvalid-error:10.2822\n",
            "[400]\ttrain-rmse:9.55204\tvalid-rmse:9.22996\ttrain-error:9.55206\tvalid-error:9.22996\n",
            "[450]\ttrain-rmse:8.62815\tvalid-rmse:8.39176\ttrain-error:8.62816\tvalid-error:8.39176\n",
            "[500]\ttrain-rmse:7.89633\tvalid-rmse:7.73044\ttrain-error:7.89634\tvalid-error:7.73044\n",
            "[550]\ttrain-rmse:7.32702\tvalid-rmse:7.22048\ttrain-error:7.32704\tvalid-error:7.22048\n",
            "[600]\ttrain-rmse:6.88292\tvalid-rmse:6.82615\ttrain-error:6.88293\tvalid-error:6.82615\n",
            "[650]\ttrain-rmse:6.53724\tvalid-rmse:6.52344\ttrain-error:6.53724\tvalid-error:6.52344\n",
            "[700]\ttrain-rmse:6.26506\tvalid-rmse:6.28217\ttrain-error:6.26508\tvalid-error:6.28217\n",
            "[750]\ttrain-rmse:6.05219\tvalid-rmse:6.09266\ttrain-error:6.0522\tvalid-error:6.09266\n",
            "[800]\ttrain-rmse:5.88096\tvalid-rmse:5.94153\ttrain-error:5.88096\tvalid-error:5.94153\n",
            "[850]\ttrain-rmse:5.75038\tvalid-rmse:5.82106\ttrain-error:5.75039\tvalid-error:5.82106\n",
            "[900]\ttrain-rmse:5.64398\tvalid-rmse:5.71978\ttrain-error:5.644\tvalid-error:5.71978\n",
            "[950]\ttrain-rmse:5.5552\tvalid-rmse:5.63673\ttrain-error:5.55522\tvalid-error:5.63673\n",
            "[1000]\ttrain-rmse:5.48289\tvalid-rmse:5.57219\ttrain-error:5.4829\tvalid-error:5.57219\n",
            "[1050]\ttrain-rmse:5.42622\tvalid-rmse:5.52162\ttrain-error:5.42624\tvalid-error:5.52162\n",
            "[1100]\ttrain-rmse:5.37626\tvalid-rmse:5.47771\ttrain-error:5.37628\tvalid-error:5.47771\n",
            "[1150]\ttrain-rmse:5.32898\tvalid-rmse:5.43818\ttrain-error:5.32899\tvalid-error:5.43818\n",
            "[1200]\ttrain-rmse:5.28796\tvalid-rmse:5.40777\ttrain-error:5.28797\tvalid-error:5.40777\n",
            "[1250]\ttrain-rmse:5.25128\tvalid-rmse:5.38182\ttrain-error:5.25128\tvalid-error:5.38182\n",
            "[1300]\ttrain-rmse:5.21741\tvalid-rmse:5.35425\ttrain-error:5.21741\tvalid-error:5.35425\n",
            "[1350]\ttrain-rmse:5.18405\tvalid-rmse:5.30847\ttrain-error:5.18406\tvalid-error:5.30847\n",
            "[1400]\ttrain-rmse:5.15335\tvalid-rmse:5.27047\ttrain-error:5.15335\tvalid-error:5.27048\n",
            "[1450]\ttrain-rmse:5.12734\tvalid-rmse:5.24272\ttrain-error:5.12735\tvalid-error:5.24272\n",
            "[1500]\ttrain-rmse:5.10381\tvalid-rmse:5.22183\ttrain-error:5.10382\tvalid-error:5.22183\n",
            "[1550]\ttrain-rmse:5.08306\tvalid-rmse:5.20071\ttrain-error:5.08306\tvalid-error:5.20071\n",
            "[1600]\ttrain-rmse:5.06358\tvalid-rmse:5.18076\ttrain-error:5.06358\tvalid-error:5.18076\n",
            "[1650]\ttrain-rmse:5.04462\tvalid-rmse:5.16101\ttrain-error:5.04462\tvalid-error:5.16101\n",
            "[1700]\ttrain-rmse:5.02899\tvalid-rmse:5.14758\ttrain-error:5.02899\tvalid-error:5.14758\n",
            "[1750]\ttrain-rmse:5.01066\tvalid-rmse:5.13284\ttrain-error:5.01066\tvalid-error:5.13283\n",
            "[1800]\ttrain-rmse:4.98882\tvalid-rmse:5.11436\ttrain-error:4.98883\tvalid-error:5.11436\n",
            "[1850]\ttrain-rmse:4.96618\tvalid-rmse:5.09141\ttrain-error:4.96619\tvalid-error:5.09141\n",
            "[1900]\ttrain-rmse:4.94764\tvalid-rmse:5.07595\ttrain-error:4.94765\tvalid-error:5.07596\n",
            "[1950]\ttrain-rmse:4.93324\tvalid-rmse:5.06407\ttrain-error:4.93325\tvalid-error:5.06407\n",
            "[2000]\ttrain-rmse:4.91451\tvalid-rmse:5.04822\ttrain-error:4.91452\tvalid-error:5.04822\n",
            "[2050]\ttrain-rmse:4.89434\tvalid-rmse:5.03086\ttrain-error:4.89435\tvalid-error:5.03086\n",
            "[2100]\ttrain-rmse:4.87475\tvalid-rmse:5.0124\ttrain-error:4.87476\tvalid-error:5.0124\n",
            "[2150]\ttrain-rmse:4.85284\tvalid-rmse:4.99052\ttrain-error:4.85285\tvalid-error:4.99052\n",
            "[2200]\ttrain-rmse:4.83597\tvalid-rmse:4.97647\ttrain-error:4.83598\tvalid-error:4.97647\n",
            "[2250]\ttrain-rmse:4.81858\tvalid-rmse:4.96193\ttrain-error:4.81858\tvalid-error:4.96193\n",
            "[2300]\ttrain-rmse:4.8036\tvalid-rmse:4.95075\ttrain-error:4.80361\tvalid-error:4.95075\n",
            "[2350]\ttrain-rmse:4.78879\tvalid-rmse:4.94091\ttrain-error:4.78879\tvalid-error:4.94091\n",
            "[2400]\ttrain-rmse:4.77378\tvalid-rmse:4.9304\ttrain-error:4.77377\tvalid-error:4.9304\n",
            "[2450]\ttrain-rmse:4.75961\tvalid-rmse:4.92016\ttrain-error:4.75961\tvalid-error:4.92016\n",
            "[2500]\ttrain-rmse:4.74555\tvalid-rmse:4.90904\ttrain-error:4.74555\tvalid-error:4.90904\n",
            "[2550]\ttrain-rmse:4.73245\tvalid-rmse:4.89929\ttrain-error:4.73245\tvalid-error:4.89929\n",
            "[2600]\ttrain-rmse:4.71703\tvalid-rmse:4.88655\ttrain-error:4.71704\tvalid-error:4.88655\n",
            "[2650]\ttrain-rmse:4.69749\tvalid-rmse:4.86876\ttrain-error:4.6975\tvalid-error:4.86876\n",
            "[2700]\ttrain-rmse:4.68024\tvalid-rmse:4.8534\ttrain-error:4.68024\tvalid-error:4.8534\n",
            "[2750]\ttrain-rmse:4.66277\tvalid-rmse:4.8376\ttrain-error:4.66278\tvalid-error:4.8376\n",
            "[2800]\ttrain-rmse:4.64729\tvalid-rmse:4.82408\ttrain-error:4.64729\tvalid-error:4.82408\n",
            "[2850]\ttrain-rmse:4.63248\tvalid-rmse:4.81196\ttrain-error:4.63249\tvalid-error:4.81196\n",
            "[2900]\ttrain-rmse:4.61993\tvalid-rmse:4.80276\ttrain-error:4.61993\tvalid-error:4.80276\n",
            "[2950]\ttrain-rmse:4.60676\tvalid-rmse:4.79276\ttrain-error:4.60676\tvalid-error:4.79276\n",
            "[3000]\ttrain-rmse:4.59402\tvalid-rmse:4.78409\ttrain-error:4.59403\tvalid-error:4.78409\n",
            "[3050]\ttrain-rmse:4.58285\tvalid-rmse:4.77749\ttrain-error:4.58286\tvalid-error:4.77749\n",
            "[3100]\ttrain-rmse:4.57146\tvalid-rmse:4.76994\ttrain-error:4.57146\tvalid-error:4.76994\n",
            "[3150]\ttrain-rmse:4.55923\tvalid-rmse:4.7618\ttrain-error:4.55924\tvalid-error:4.7618\n",
            "[3200]\ttrain-rmse:4.54735\tvalid-rmse:4.75445\ttrain-error:4.54736\tvalid-error:4.75445\n",
            "[3250]\ttrain-rmse:4.53521\tvalid-rmse:4.74604\ttrain-error:4.53522\tvalid-error:4.74604\n",
            "[3300]\ttrain-rmse:4.52501\tvalid-rmse:4.73997\ttrain-error:4.52502\tvalid-error:4.73997\n",
            "[3350]\ttrain-rmse:4.51526\tvalid-rmse:4.73476\ttrain-error:4.51527\tvalid-error:4.73476\n",
            "[3400]\ttrain-rmse:4.50631\tvalid-rmse:4.73085\ttrain-error:4.50631\tvalid-error:4.73085\n",
            "[3450]\ttrain-rmse:4.49747\tvalid-rmse:4.72556\ttrain-error:4.49748\tvalid-error:4.72556\n",
            "[3500]\ttrain-rmse:4.48834\tvalid-rmse:4.72052\ttrain-error:4.48834\tvalid-error:4.72053\n",
            "[3550]\ttrain-rmse:4.48116\tvalid-rmse:4.71694\ttrain-error:4.48117\tvalid-error:4.71694\n",
            "[3600]\ttrain-rmse:4.47224\tvalid-rmse:4.71127\ttrain-error:4.47224\tvalid-error:4.71127\n",
            "[3650]\ttrain-rmse:4.4625\tvalid-rmse:4.70541\ttrain-error:4.4625\tvalid-error:4.70541\n",
            "[3700]\ttrain-rmse:4.45385\tvalid-rmse:4.69933\ttrain-error:4.45386\tvalid-error:4.69933\n",
            "[3750]\ttrain-rmse:4.44558\tvalid-rmse:4.69261\ttrain-error:4.44559\tvalid-error:4.69261\n",
            "[3800]\ttrain-rmse:4.43785\tvalid-rmse:4.68786\ttrain-error:4.43785\tvalid-error:4.68786\n",
            "[3850]\ttrain-rmse:4.42823\tvalid-rmse:4.68222\ttrain-error:4.42823\tvalid-error:4.68222\n",
            "[3900]\ttrain-rmse:4.41948\tvalid-rmse:4.67725\ttrain-error:4.41948\tvalid-error:4.67725\n",
            "[3950]\ttrain-rmse:4.4096\tvalid-rmse:4.67369\ttrain-error:4.40961\tvalid-error:4.67369\n",
            "[4000]\ttrain-rmse:4.3989\tvalid-rmse:4.66845\ttrain-error:4.39892\tvalid-error:4.66845\n",
            "[4050]\ttrain-rmse:4.3875\tvalid-rmse:4.66393\ttrain-error:4.3875\tvalid-error:4.66393\n",
            "[4100]\ttrain-rmse:4.37632\tvalid-rmse:4.65963\ttrain-error:4.37632\tvalid-error:4.65963\n",
            "[4150]\ttrain-rmse:4.36093\tvalid-rmse:4.65308\ttrain-error:4.36093\tvalid-error:4.65308\n",
            "[4200]\ttrain-rmse:4.34917\tvalid-rmse:4.64561\ttrain-error:4.34918\tvalid-error:4.64561\n",
            "[4250]\ttrain-rmse:4.34223\tvalid-rmse:4.64166\ttrain-error:4.34223\tvalid-error:4.64166\n",
            "[4300]\ttrain-rmse:4.33444\tvalid-rmse:4.63787\ttrain-error:4.33444\tvalid-error:4.63787\n",
            "[4350]\ttrain-rmse:4.3252\tvalid-rmse:4.6311\ttrain-error:4.3252\tvalid-error:4.6311\n",
            "[4400]\ttrain-rmse:4.31668\tvalid-rmse:4.62218\ttrain-error:4.31668\tvalid-error:4.62218\n",
            "[4450]\ttrain-rmse:4.30748\tvalid-rmse:4.61261\ttrain-error:4.30748\tvalid-error:4.61261\n",
            "[4500]\ttrain-rmse:4.2982\tvalid-rmse:4.6029\ttrain-error:4.29821\tvalid-error:4.6029\n",
            "[4550]\ttrain-rmse:4.28929\tvalid-rmse:4.59699\ttrain-error:4.2893\tvalid-error:4.59699\n",
            "[4600]\ttrain-rmse:4.28236\tvalid-rmse:4.59452\ttrain-error:4.28236\tvalid-error:4.59452\n",
            "[4650]\ttrain-rmse:4.27381\tvalid-rmse:4.59044\ttrain-error:4.27382\tvalid-error:4.59044\n",
            "[4700]\ttrain-rmse:4.26567\tvalid-rmse:4.58685\ttrain-error:4.26567\tvalid-error:4.58685\n",
            "[4750]\ttrain-rmse:4.25855\tvalid-rmse:4.58369\ttrain-error:4.25856\tvalid-error:4.58369\n",
            "[4800]\ttrain-rmse:4.25175\tvalid-rmse:4.58144\ttrain-error:4.25175\tvalid-error:4.58144\n",
            "[4850]\ttrain-rmse:4.24313\tvalid-rmse:4.57104\ttrain-error:4.24314\tvalid-error:4.57104\n",
            "[4900]\ttrain-rmse:4.23591\tvalid-rmse:4.56386\ttrain-error:4.23592\tvalid-error:4.56386\n",
            "[4950]\ttrain-rmse:4.23015\tvalid-rmse:4.55958\ttrain-error:4.23015\tvalid-error:4.55958\n",
            "[4999]\ttrain-rmse:4.22538\tvalid-rmse:4.55659\ttrain-error:4.22539\tvalid-error:4.55659\n"
          ],
          "name": "stdout"
        }
      ]
    },
    {
      "cell_type": "code",
      "metadata": {
        "id": "roDkmN1yikF9",
        "colab_type": "code",
        "colab": {}
      },
      "source": [
        "y = train[train['Junction']!=3]['Vehicles']\n",
        "data = train[train['Junction']!=3][['Junction', 'day', 'hour', 'month', 'DayCount','Year','Is_holiday']]\n",
        "sub_test = test_remain[['Junction', 'day', 'hour', 'month', 'DayCount','Year','Is_holiday']]\n",
        "\n",
        "# y = train[train['Junction']!=3]['Vehicles']\n",
        "# data = train[train['Junction']!=3][['Junction', 'day', 'hour', 'month','Year','Week','Is_holiday','DayCount']]\n",
        "# sub_test = test_remain[['Junction', 'day', 'hour', 'month','Year','Week','Is_holiday','DayCount']]"
      ],
      "execution_count": 0,
      "outputs": []
    },
    {
      "cell_type": "code",
      "metadata": {
        "id": "RKX9ufV0ikC0",
        "colab_type": "code",
        "outputId": "9c9ec907-a559-45bb-a793-c778af8d7366",
        "colab": {
          "base_uri": "https://localhost:8080/",
          "height": 1000
        }
      },
      "source": [
        "# split data to training and validation sets\n",
        "X_train, X_test, y_train, y_test = train_test_split(data, y, test_size=0.03, random_state=15)\n",
        "\n",
        "# convert data to Dmatrix format for xgboost\n",
        "# In order for XGBoost to be able to use our data we need to transform it in to a specific format that \n",
        "#XGBoost can handle.\n",
        "\n",
        "d_train = xgb.DMatrix(X_train, label=y_train)\n",
        "d_valid = xgb.DMatrix(X_test, label=y_test)\n",
        "d_test = xgb.DMatrix(sub_test)\n",
        "\n",
        "params = {  \n",
        "    \"n_estimators\": 250 ,  \n",
        "    \"max_depth\": 6 ,              \n",
        "    \"learning_rate\": 0.0075 ,\n",
        "    \"colsample_bytree\": 1 , \n",
        "    \"subsample\": 1 ,        \n",
        "    \"gamma\": 0.21 ,              \n",
        "    'reg_alpha': 1 ,   \n",
        "    \"min_child_weight\": 2 ,     \n",
        "}\n",
        "\n",
        "# watchlist to see how trained model is performing over validation data and training data.\n",
        "train_valid = [(d_train, 'train'), (d_valid, 'valid')]\n",
        "\n",
        "# Train xgboost regressor\n",
        "reg = xgb.train(params, d_train, 5500, train_valid,  feval = evaluation_error, maximize=False, verbose_eval=50)\n",
        "# Predict from xgboost regressor\n",
        "Vehicles_test_others = reg.predict(d_test)"
      ],
      "execution_count": 125,
      "outputs": [
        {
          "output_type": "stream",
          "text": [
            "[0]\ttrain-rmse:34.4917\tvalid-rmse:34.828\ttrain-error:34.4914\tvalid-error:34.828\n",
            "[50]\ttrain-rmse:23.9986\tvalid-rmse:24.1911\ttrain-error:23.9986\tvalid-error:24.1911\n",
            "[100]\ttrain-rmse:16.8791\tvalid-rmse:16.9557\ttrain-error:16.8791\tvalid-error:16.9557\n",
            "[150]\ttrain-rmse:12.0805\tvalid-rmse:12.0533\ttrain-error:12.0806\tvalid-error:12.0533\n",
            "[200]\ttrain-rmse:8.90388\tvalid-rmse:8.8123\ttrain-error:8.90389\tvalid-error:8.8123\n",
            "[250]\ttrain-rmse:6.85926\tvalid-rmse:6.73915\ttrain-error:6.85925\tvalid-error:6.73915\n",
            "[300]\ttrain-rmse:5.57524\tvalid-rmse:5.4597\ttrain-error:5.57524\tvalid-error:5.4597\n",
            "[350]\ttrain-rmse:4.79844\tvalid-rmse:4.70457\ttrain-error:4.79843\tvalid-error:4.70457\n",
            "[400]\ttrain-rmse:4.33297\tvalid-rmse:4.25935\ttrain-error:4.33297\tvalid-error:4.25935\n",
            "[450]\ttrain-rmse:4.05221\tvalid-rmse:3.99956\ttrain-error:4.05222\tvalid-error:3.99956\n",
            "[500]\ttrain-rmse:3.87713\tvalid-rmse:3.84337\ttrain-error:3.87714\tvalid-error:3.84337\n",
            "[550]\ttrain-rmse:3.75663\tvalid-rmse:3.73827\ttrain-error:3.75663\tvalid-error:3.73827\n",
            "[600]\ttrain-rmse:3.67477\tvalid-rmse:3.66516\ttrain-error:3.67477\tvalid-error:3.66516\n",
            "[650]\ttrain-rmse:3.61336\tvalid-rmse:3.61252\ttrain-error:3.61336\tvalid-error:3.61252\n",
            "[700]\ttrain-rmse:3.57106\tvalid-rmse:3.58154\ttrain-error:3.57106\tvalid-error:3.58154\n",
            "[750]\ttrain-rmse:3.53321\tvalid-rmse:3.54829\ttrain-error:3.53321\tvalid-error:3.54829\n",
            "[800]\ttrain-rmse:3.49348\tvalid-rmse:3.51149\ttrain-error:3.49349\tvalid-error:3.51149\n",
            "[850]\ttrain-rmse:3.4562\tvalid-rmse:3.48044\ttrain-error:3.4562\tvalid-error:3.48044\n",
            "[900]\ttrain-rmse:3.42265\tvalid-rmse:3.45242\ttrain-error:3.42266\tvalid-error:3.45242\n",
            "[950]\ttrain-rmse:3.39309\tvalid-rmse:3.42645\ttrain-error:3.3931\tvalid-error:3.42645\n",
            "[1000]\ttrain-rmse:3.36645\tvalid-rmse:3.40374\ttrain-error:3.36645\tvalid-error:3.40374\n",
            "[1050]\ttrain-rmse:3.34036\tvalid-rmse:3.38387\ttrain-error:3.34036\tvalid-error:3.38387\n",
            "[1100]\ttrain-rmse:3.31465\tvalid-rmse:3.36458\ttrain-error:3.31465\tvalid-error:3.36458\n",
            "[1150]\ttrain-rmse:3.29128\tvalid-rmse:3.34539\ttrain-error:3.29129\tvalid-error:3.34539\n",
            "[1200]\ttrain-rmse:3.27158\tvalid-rmse:3.3276\ttrain-error:3.27158\tvalid-error:3.3276\n",
            "[1250]\ttrain-rmse:3.25381\tvalid-rmse:3.31202\ttrain-error:3.25381\tvalid-error:3.31202\n",
            "[1300]\ttrain-rmse:3.23707\tvalid-rmse:3.29849\ttrain-error:3.23708\tvalid-error:3.29849\n",
            "[1350]\ttrain-rmse:3.22027\tvalid-rmse:3.28599\ttrain-error:3.22027\tvalid-error:3.28599\n",
            "[1400]\ttrain-rmse:3.20014\tvalid-rmse:3.26984\ttrain-error:3.20014\tvalid-error:3.26984\n",
            "[1450]\ttrain-rmse:3.18054\tvalid-rmse:3.25312\ttrain-error:3.18055\tvalid-error:3.25312\n",
            "[1500]\ttrain-rmse:3.16569\tvalid-rmse:3.23927\ttrain-error:3.16569\tvalid-error:3.23927\n",
            "[1550]\ttrain-rmse:3.15132\tvalid-rmse:3.22536\ttrain-error:3.15132\tvalid-error:3.22536\n",
            "[1600]\ttrain-rmse:3.13822\tvalid-rmse:3.2131\ttrain-error:3.13822\tvalid-error:3.2131\n",
            "[1650]\ttrain-rmse:3.1257\tvalid-rmse:3.20186\ttrain-error:3.1257\tvalid-error:3.20186\n",
            "[1700]\ttrain-rmse:3.10822\tvalid-rmse:3.18483\ttrain-error:3.10822\tvalid-error:3.18483\n",
            "[1750]\ttrain-rmse:3.09123\tvalid-rmse:3.17218\ttrain-error:3.09123\tvalid-error:3.17218\n",
            "[1800]\ttrain-rmse:3.07666\tvalid-rmse:3.16607\ttrain-error:3.07666\tvalid-error:3.16607\n",
            "[1850]\ttrain-rmse:3.06329\tvalid-rmse:3.16085\ttrain-error:3.06329\tvalid-error:3.16085\n",
            "[1900]\ttrain-rmse:3.0493\tvalid-rmse:3.1549\ttrain-error:3.04931\tvalid-error:3.1549\n",
            "[1950]\ttrain-rmse:3.03405\tvalid-rmse:3.14417\ttrain-error:3.03405\tvalid-error:3.14417\n",
            "[2000]\ttrain-rmse:3.02046\tvalid-rmse:3.13572\ttrain-error:3.02046\tvalid-error:3.13572\n",
            "[2050]\ttrain-rmse:3.0085\tvalid-rmse:3.12966\ttrain-error:3.0085\tvalid-error:3.12966\n",
            "[2100]\ttrain-rmse:2.99797\tvalid-rmse:3.12497\ttrain-error:2.99797\tvalid-error:3.12497\n",
            "[2150]\ttrain-rmse:2.98714\tvalid-rmse:3.11983\ttrain-error:2.98714\tvalid-error:3.11983\n",
            "[2200]\ttrain-rmse:2.97796\tvalid-rmse:3.11495\ttrain-error:2.97797\tvalid-error:3.11495\n",
            "[2250]\ttrain-rmse:2.96321\tvalid-rmse:3.10658\ttrain-error:2.96321\tvalid-error:3.10658\n",
            "[2300]\ttrain-rmse:2.94903\tvalid-rmse:3.09477\ttrain-error:2.94903\tvalid-error:3.09477\n",
            "[2350]\ttrain-rmse:2.93906\tvalid-rmse:3.08753\ttrain-error:2.93906\tvalid-error:3.08753\n",
            "[2400]\ttrain-rmse:2.93023\tvalid-rmse:3.08111\ttrain-error:2.93024\tvalid-error:3.08111\n",
            "[2450]\ttrain-rmse:2.92088\tvalid-rmse:3.07617\ttrain-error:2.92088\tvalid-error:3.07617\n",
            "[2500]\ttrain-rmse:2.91055\tvalid-rmse:3.07169\ttrain-error:2.91056\tvalid-error:3.07169\n",
            "[2550]\ttrain-rmse:2.89906\tvalid-rmse:3.06647\ttrain-error:2.89906\tvalid-error:3.06647\n",
            "[2600]\ttrain-rmse:2.8903\tvalid-rmse:3.05802\ttrain-error:2.8903\tvalid-error:3.05802\n",
            "[2650]\ttrain-rmse:2.88177\tvalid-rmse:3.05081\ttrain-error:2.88177\tvalid-error:3.05081\n",
            "[2700]\ttrain-rmse:2.87194\tvalid-rmse:3.04299\ttrain-error:2.87194\tvalid-error:3.04299\n",
            "[2750]\ttrain-rmse:2.85881\tvalid-rmse:3.03347\ttrain-error:2.85881\tvalid-error:3.03347\n",
            "[2800]\ttrain-rmse:2.8477\tvalid-rmse:3.02409\ttrain-error:2.84771\tvalid-error:3.02409\n",
            "[2850]\ttrain-rmse:2.83775\tvalid-rmse:3.01721\ttrain-error:2.83775\tvalid-error:3.01721\n",
            "[2900]\ttrain-rmse:2.83004\tvalid-rmse:3.01282\ttrain-error:2.83004\tvalid-error:3.01282\n",
            "[2950]\ttrain-rmse:2.82394\tvalid-rmse:3.00877\ttrain-error:2.82394\tvalid-error:3.00877\n",
            "[3000]\ttrain-rmse:2.816\tvalid-rmse:3.0047\ttrain-error:2.816\tvalid-error:3.0047\n",
            "[3050]\ttrain-rmse:2.80908\tvalid-rmse:2.99863\ttrain-error:2.80909\tvalid-error:2.99863\n",
            "[3100]\ttrain-rmse:2.80031\tvalid-rmse:2.99115\ttrain-error:2.80031\tvalid-error:2.99115\n",
            "[3150]\ttrain-rmse:2.79345\tvalid-rmse:2.9852\ttrain-error:2.79346\tvalid-error:2.9852\n",
            "[3200]\ttrain-rmse:2.78695\tvalid-rmse:2.98002\ttrain-error:2.78695\tvalid-error:2.98002\n",
            "[3250]\ttrain-rmse:2.7807\tvalid-rmse:2.97528\ttrain-error:2.7807\tvalid-error:2.97528\n",
            "[3300]\ttrain-rmse:2.77514\tvalid-rmse:2.97179\ttrain-error:2.77514\tvalid-error:2.97179\n",
            "[3350]\ttrain-rmse:2.76946\tvalid-rmse:2.96901\ttrain-error:2.76946\tvalid-error:2.96901\n",
            "[3400]\ttrain-rmse:2.76431\tvalid-rmse:2.96617\ttrain-error:2.76431\tvalid-error:2.96617\n",
            "[3450]\ttrain-rmse:2.7579\tvalid-rmse:2.9623\ttrain-error:2.75791\tvalid-error:2.9623\n",
            "[3500]\ttrain-rmse:2.7515\tvalid-rmse:2.9579\ttrain-error:2.7515\tvalid-error:2.9579\n",
            "[3550]\ttrain-rmse:2.74484\tvalid-rmse:2.95266\ttrain-error:2.74484\tvalid-error:2.95266\n",
            "[3600]\ttrain-rmse:2.73899\tvalid-rmse:2.94882\ttrain-error:2.73899\tvalid-error:2.94883\n",
            "[3650]\ttrain-rmse:2.73476\tvalid-rmse:2.94562\ttrain-error:2.73477\tvalid-error:2.94562\n",
            "[3700]\ttrain-rmse:2.73012\tvalid-rmse:2.94189\ttrain-error:2.73012\tvalid-error:2.94189\n",
            "[3750]\ttrain-rmse:2.72359\tvalid-rmse:2.93751\ttrain-error:2.7236\tvalid-error:2.93751\n",
            "[3800]\ttrain-rmse:2.71786\tvalid-rmse:2.93426\ttrain-error:2.71786\tvalid-error:2.93426\n",
            "[3850]\ttrain-rmse:2.71157\tvalid-rmse:2.92959\ttrain-error:2.71158\tvalid-error:2.92959\n",
            "[3900]\ttrain-rmse:2.70616\tvalid-rmse:2.9271\ttrain-error:2.70616\tvalid-error:2.9271\n",
            "[3950]\ttrain-rmse:2.70002\tvalid-rmse:2.92679\ttrain-error:2.70002\tvalid-error:2.92679\n",
            "[4000]\ttrain-rmse:2.69405\tvalid-rmse:2.9224\ttrain-error:2.69405\tvalid-error:2.9224\n",
            "[4050]\ttrain-rmse:2.68772\tvalid-rmse:2.91974\ttrain-error:2.68773\tvalid-error:2.91974\n",
            "[4100]\ttrain-rmse:2.68101\tvalid-rmse:2.91549\ttrain-error:2.68101\tvalid-error:2.91549\n",
            "[4150]\ttrain-rmse:2.67446\tvalid-rmse:2.91085\ttrain-error:2.67446\tvalid-error:2.91085\n",
            "[4200]\ttrain-rmse:2.66897\tvalid-rmse:2.90643\ttrain-error:2.66897\tvalid-error:2.90643\n",
            "[4250]\ttrain-rmse:2.6633\tvalid-rmse:2.90194\ttrain-error:2.6633\tvalid-error:2.90194\n",
            "[4300]\ttrain-rmse:2.65764\tvalid-rmse:2.89946\ttrain-error:2.65764\tvalid-error:2.89946\n",
            "[4350]\ttrain-rmse:2.65262\tvalid-rmse:2.89681\ttrain-error:2.65262\tvalid-error:2.89681\n",
            "[4400]\ttrain-rmse:2.64761\tvalid-rmse:2.89427\ttrain-error:2.64762\tvalid-error:2.89427\n",
            "[4450]\ttrain-rmse:2.64331\tvalid-rmse:2.89237\ttrain-error:2.64331\tvalid-error:2.89237\n",
            "[4500]\ttrain-rmse:2.63825\tvalid-rmse:2.89174\ttrain-error:2.63826\tvalid-error:2.89174\n",
            "[4550]\ttrain-rmse:2.63393\tvalid-rmse:2.89083\ttrain-error:2.63393\tvalid-error:2.89083\n",
            "[4600]\ttrain-rmse:2.6298\tvalid-rmse:2.8895\ttrain-error:2.6298\tvalid-error:2.8895\n",
            "[4650]\ttrain-rmse:2.62358\tvalid-rmse:2.88796\ttrain-error:2.62358\tvalid-error:2.88796\n",
            "[4700]\ttrain-rmse:2.61843\tvalid-rmse:2.8833\ttrain-error:2.61843\tvalid-error:2.8833\n",
            "[4750]\ttrain-rmse:2.61387\tvalid-rmse:2.87991\ttrain-error:2.61387\tvalid-error:2.87991\n",
            "[4800]\ttrain-rmse:2.61032\tvalid-rmse:2.87775\ttrain-error:2.61032\tvalid-error:2.87775\n",
            "[4850]\ttrain-rmse:2.60656\tvalid-rmse:2.87459\ttrain-error:2.60656\tvalid-error:2.87459\n",
            "[4900]\ttrain-rmse:2.6024\tvalid-rmse:2.86939\ttrain-error:2.60241\tvalid-error:2.86939\n",
            "[4950]\ttrain-rmse:2.59803\tvalid-rmse:2.86648\ttrain-error:2.59803\tvalid-error:2.86648\n",
            "[5000]\ttrain-rmse:2.58996\tvalid-rmse:2.85996\ttrain-error:2.58996\tvalid-error:2.85996\n",
            "[5050]\ttrain-rmse:2.58313\tvalid-rmse:2.85437\ttrain-error:2.58312\tvalid-error:2.85437\n",
            "[5100]\ttrain-rmse:2.57928\tvalid-rmse:2.85056\ttrain-error:2.57928\tvalid-error:2.85056\n",
            "[5150]\ttrain-rmse:2.57483\tvalid-rmse:2.84696\ttrain-error:2.57483\tvalid-error:2.84696\n",
            "[5200]\ttrain-rmse:2.57094\tvalid-rmse:2.84508\ttrain-error:2.57094\tvalid-error:2.84508\n",
            "[5250]\ttrain-rmse:2.56642\tvalid-rmse:2.84295\ttrain-error:2.56642\tvalid-error:2.84295\n",
            "[5300]\ttrain-rmse:2.56262\tvalid-rmse:2.84073\ttrain-error:2.56262\tvalid-error:2.84073\n",
            "[5350]\ttrain-rmse:2.55875\tvalid-rmse:2.83857\ttrain-error:2.55875\tvalid-error:2.83857\n",
            "[5400]\ttrain-rmse:2.55518\tvalid-rmse:2.83615\ttrain-error:2.55518\tvalid-error:2.83615\n",
            "[5450]\ttrain-rmse:2.55085\tvalid-rmse:2.83251\ttrain-error:2.55086\tvalid-error:2.83251\n",
            "[5499]\ttrain-rmse:2.54666\tvalid-rmse:2.82981\ttrain-error:2.54666\tvalid-error:2.82981\n"
          ],
          "name": "stdout"
        }
      ]
    },
    {
      "cell_type": "code",
      "metadata": {
        "id": "dhvubUZlikBq",
        "colab_type": "code",
        "colab": {}
      },
      "source": [
        "# save test submission\n",
        "Submission_id= pd.DataFrame()\n",
        "Submission_id= ID_test_remain.append(ID_test_three)\n",
        "\n",
        "Pred_Vehicles= pd.DataFrame()\n",
        "Pred_Vehicles= np.concatenate((Vehicles_test_others,Vehicles_test_3))\n",
        "\n",
        "\n",
        "future_prediction = pd.DataFrame({\n",
        "        \"ID\":Submission_id,\n",
        "        \"Vehicles\": Pred_Vehicles \n",
        "    })\n",
        "future_prediction.to_csv('submission.csv', index=False, encoding='utf-8')"
      ],
      "execution_count": 0,
      "outputs": []
    },
    {
      "cell_type": "markdown",
      "metadata": {
        "id": "13cSR-C1HTUn",
        "colab_type": "text"
      },
      "source": [
        "As there is a strict time line of 2 days for this very competition. And i made total 10 submission Each time with little different approach in the same notebook so unable to provide all the notebooks.\n",
        "\n",
        "But the core idea is same in each and every notebook.. Only difference is the performing parameter tunning for XGboost algorithms.\n",
        "\n"
      ]
    }
  ]
}